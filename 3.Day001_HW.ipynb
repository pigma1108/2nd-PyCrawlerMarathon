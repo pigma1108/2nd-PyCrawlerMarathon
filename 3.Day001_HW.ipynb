{
 "cells": [
  {
   "cell_type": "code",
   "execution_count": 24,
   "metadata": {},
   "outputs": [
    {
     "name": "stdout",
     "output_type": "stream",
     "text": [
      "File in here.\n",
      "11\n",
      "The same\n"
     ]
    }
   ],
   "source": [
    "import os\n",
    "import urllib.request\n",
    "from urllib.request import urlretrieve\n",
    "\n",
    "urlretrieve(\"http://www.w3.org/TR/PNG/iso_8859-1.txt\",\"Homework.txt\")\n",
    "os.mkdir('data')\n",
    "os.rename(\"Homework.txt\", \"data/Homework.txt\")\n",
    "if os.path.isfile('data/Homework.txt'):\n",
    "    print('File in here.')\n",
    "else:\n",
    "     print('where is File')\n",
    "        \n",
    "老兵 = open('data/Homework.txt', 'w')\n",
    "老兵.write('Hello World')\n",
    "老兵.close()\n",
    "\n",
    "with open('data/Homework.txt', 'r') as ff:\n",
    "    fRead = len(ff.read())\n",
    "# ff = open('data/Homework.txt','r')\n",
    "# fRead = len(ff.read())\n",
    "# ff.close()\n",
    "\n",
    "print(fRead)\n",
    "\n",
    "if fRead == len('Hello World'):\n",
    "    print('The same')\n",
    "else:\n",
    "    print('diffra')"
   ]
  },
  {
   "cell_type": "code",
   "execution_count": 21,
   "metadata": {},
   "outputs": [],
   "source": [
    "fh=open('Homework22.txt','a')\n",
    "fh.write(\"Hello World XDDDDD\")\n",
    "fh.close()"
   ]
  },
  {
   "cell_type": "code",
   "execution_count": null,
   "metadata": {},
   "outputs": [],
   "source": []
  }
 ],
 "metadata": {
  "kernelspec": {
   "display_name": "Python 3",
   "language": "python",
   "name": "python3"
  },
  "language_info": {
   "codemirror_mode": {
    "name": "ipython",
    "version": 3
   },
   "file_extension": ".py",
   "mimetype": "text/x-python",
   "name": "python",
   "nbconvert_exporter": "python",
   "pygments_lexer": "ipython3",
   "version": "3.7.4"
  }
 },
 "nbformat": 4,
 "nbformat_minor": 4
}
